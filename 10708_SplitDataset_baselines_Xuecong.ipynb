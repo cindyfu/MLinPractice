{
  "nbformat": 4,
  "nbformat_minor": 0,
  "metadata": {
    "colab": {
      "provenance": [],
      "collapsed_sections": [],
      "include_colab_link": true
    },
    "kernelspec": {
      "name": "python3",
      "display_name": "Python 3"
    },
    "language_info": {
      "name": "python"
    }
  },
  "cells": [
    {
      "cell_type": "markdown",
      "metadata": {
        "id": "view-in-github",
        "colab_type": "text"
      },
      "source": [
        "<a href=\"https://colab.research.google.com/github/cindyfu/MLinPractice/blob/main/10708_SplitDataset_baselines_Xuecong.ipynb\" target=\"_parent\"><img src=\"https://colab.research.google.com/assets/colab-badge.svg\" alt=\"Open In Colab\"/></a>"
      ]
    },
    {
      "cell_type": "code",
      "execution_count": 2,
      "metadata": {
        "colab": {
          "base_uri": "https://localhost:8080/"
        },
        "id": "_kXc-SIbAwAi",
        "outputId": "b70a9d78-20aa-4b59-a69d-970965c44f7c"
      },
      "outputs": [
        {
          "output_type": "stream",
          "name": "stdout",
          "text": [
            "Mounted at /content/drive\n"
          ]
        }
      ],
      "source": [
        "#!wget https://dsapp-public-data-migrated.s3.us-west-2.amazonaws.com/donors_choose_2014_raw_CSVs.zip\n",
        "from google.colab import drive\n",
        "drive.mount('/content/drive')"
      ]
    },
    {
      "cell_type": "code",
      "source": [
        "!unzip /content/drive/MyDrive/donors_choose_2014_raw_CSVs.zip"
      ],
      "metadata": {
        "colab": {
          "base_uri": "https://localhost:8080/"
        },
        "id": "Y8vMJXgeAzr0",
        "outputId": "7c57240a-6b3e-4a05-f3c4-d6ced131b537"
      },
      "execution_count": 4,
      "outputs": [
        {
          "output_type": "stream",
          "name": "stdout",
          "text": [
            "Archive:  /content/drive/MyDrive/donors_choose_2014_raw_CSVs.zip\n",
            "  inflating: donations.csv.zip       \n",
            "  inflating: essays.csv.zip          \n",
            "  inflating: outcomes.csv.zip        \n",
            "  inflating: projects.csv.zip        \n",
            "  inflating: resources.csv.zip       \n",
            "  inflating: sampleSubmission.csv.zip  \n"
          ]
        }
      ]
    },
    {
      "cell_type": "code",
      "source": [
        "!ls -lh"
      ],
      "metadata": {
        "colab": {
          "base_uri": "https://localhost:8080/"
        },
        "id": "hSylidbpBAtW",
        "outputId": "1e735134-1d3f-4de7-bb30-94dec0793d16"
      },
      "execution_count": 5,
      "outputs": [
        {
          "output_type": "stream",
          "name": "stdout",
          "text": [
            "total 926M\n",
            "-rw-r--r-- 1 root root 253M Dec 11  2019 donations.csv.zip\n",
            "drwx------ 6 root root 4.0K Sep 19 17:52 drive\n",
            "-rw-r--r-- 1 root root 403M Dec 11  2019 essays.csv.zip\n",
            "-rw-r--r-- 1 root root  12M Dec 11  2019 outcomes.csv.zip\n",
            "-rw-r--r-- 1 root root  65M Dec 11  2019 projects.csv.zip\n",
            "-rw-r--r-- 1 root root 194M Dec 11  2019 resources.csv.zip\n",
            "drwxr-xr-x 1 root root 4.0K Sep 14 13:44 sample_data\n",
            "-rw-r--r-- 1 root root 794K Dec 11  2019 sampleSubmission.csv.zip\n"
          ]
        }
      ]
    },
    {
      "cell_type": "code",
      "source": [
        "from collections import defaultdict, Counter, namedtuple\n",
        "import gzip, os, sys, time, pickle, itertools, copy, datetime, gc, importlib, resource, re, logging\n",
        "from datetime import datetime, timedelta\n",
        "from multiprocessing import Pool\n",
        "from tqdm.auto import tqdm, trange\n",
        "from pathlib import Path\n",
        "from typing import List, Dict, Union\n",
        "\n",
        "import numpy as np\n",
        "from numpy.lib import recfunctions as rfn\n",
        "import pandas as pd\n",
        "from scipy.sparse import csr_matrix, csc_matrix, coo_matrix\n",
        "from scipy.stats import ttest_ind, zscore\n",
        "from scipy.cluster import hierarchy\n",
        "from sklearn.decomposition import PCA, TruncatedSVD\n",
        "from sklearn.preprocessing import StandardScaler\n",
        "from sklearn.metrics import adjusted_rand_score, pairwise_distances, accuracy_score, f1_score, precision_score, recall_score\n",
        "from sklearn.manifold import TSNE\n",
        "from sklearn.neighbors import NearestNeighbors\n",
        "from statsmodels.stats.multitest import multipletests\n",
        "\n",
        "import torch\n",
        "from torch import nn\n",
        "from torch.optim import Adam\n",
        "from torch.nn import functional as F\n",
        "from torch.utils.data import DataLoader, Dataset, TensorDataset\n",
        "\n",
        "import matplotlib\n",
        "from matplotlib import pyplot as plt\n",
        "import seaborn as sns\n",
        "%config InlineBackend.figure_format = 'retina'\n",
        "plt.rcParams['pdf.fonttype'] = 42\n",
        "plt.rcParams['svg.fonttype'] = 'none'"
      ],
      "metadata": {
        "id": "GFqXA-K-BD_h"
      },
      "execution_count": 6,
      "outputs": []
    },
    {
      "cell_type": "code",
      "source": [
        "projects_df = pd.read_csv('projects.csv.zip')\n",
        "donations_df = pd.read_csv('donations.csv.zip')\n",
        "# resources_df = pd.read_csv('resources.csv.zip')"
      ],
      "metadata": {
        "id": "idWDc42kBQ2V"
      },
      "execution_count": 78,
      "outputs": []
    },
    {
      "cell_type": "code",
      "source": [
        "projects_df = projects_df.set_index('projectid')\n",
        "projects_df['date_posted'] = projects_df['date_posted'].apply(lambda _: datetime.strptime(_, '%Y-%m-%d'))\n",
        "donations_df['donation_timestamp'] = donations_df['donation_timestamp'].apply(lambda _: datetime.strptime(_.split('.')[0], '%Y-%m-%d %H:%M:%S'))\n",
        "# -- data cleaning: remove projects that do not need funding\n",
        "projects_df = projects_df[projects_df['total_price_excluding_optional_support'] > 0]\n",
        "donations_df = donations_df[donations_df['projectid'].isin(projects_df.index)]\n",
        "# -- data cleaning: remove donations that happen 4 months (120 days technically) after the project is posted\n",
        "donations_df = donations_df[donations_df['donation_timestamp'].values < (projects_df.loc[donations_df['projectid'], 'date_posted'] + timedelta(120)).values]\n",
        "# -- add features: calculate funded price and funded fraction for each project\n",
        "projects_df['funded_price'] = donations_df.groupby('projectid')['donation_to_project'].sum()\n",
        "projects_df['funded_price'].fillna(0., inplace=True)\n",
        "projects_df['funded_fraction'] = projects_df['funded_price'] / projects_df['total_price_excluding_optional_support']"
      ],
      "metadata": {
        "id": "hUmS75NPENfe"
      },
      "execution_count": 79,
      "outputs": []
    },
    {
      "cell_type": "code",
      "source": [
        "essays_df = pd.read_csv('essays.csv.zip')\n",
        "essays_df = essays_df.set_index('projectid')"
      ],
      "metadata": {
        "id": "_d9EQDUD6jcM"
      },
      "execution_count": 80,
      "outputs": []
    },
    {
      "cell_type": "code",
      "source": [
        "essays_df"
      ],
      "metadata": {
        "colab": {
          "base_uri": "https://localhost:8080/",
          "height": 707
        },
        "id": "gHwDOMLjQtyA",
        "outputId": "0bb777b3-378a-4543-9277-35a92275aed5"
      },
      "execution_count": 38,
      "outputs": [
        {
          "output_type": "execute_result",
          "data": {
            "text/plain": [
              "                                                    teacher_acctid  \\\n",
              "projectid                                                            \n",
              "ffffc4f85b60efc5b52347df489d0238  c24011b20fc161ed02248e85beb59a90   \n",
              "ffffac55ee02a49d1abc87ba6fc61135  947066d0af47e0566f334566553dd6a6   \n",
              "ffff97ed93720407d70a2787475932b0  462270f5d5c212162fcab11afa2623cb   \n",
              "ffff7266778f71242675416e600b94e1  b9a8f14199e0d8109200ece179281f4f   \n",
              "ffff418bb42fad24347527ad96100f81  e885fb002a1d0d39aaed9d21a7683549   \n",
              "...                                                            ...   \n",
              "0000ee613c92ddc5298bf63142996a5c  e0c0a0214d3c2cfdc0ab6639bc3c5342   \n",
              "0000b38bbc7252972f7984848cf58098  e1aa1ae5301d0cda860c4d9c89c24919   \n",
              "00002d691c05c51a5fdfbb2baef0ba25  7ad6abc974dd8b62773f79f6cbed48d5   \n",
              "00002bff514104264a6b798356fdd893  3414541eb63108700b188648f866f483   \n",
              "00001ccc0e81598c4bd86bacb94d7acb  96963218e74e10c3764a5cfb153e6fea   \n",
              "\n",
              "                                                                            title  \\\n",
              "projectid                                                                           \n",
              "ffffc4f85b60efc5b52347df489d0238                                            iMath   \n",
              "ffffac55ee02a49d1abc87ba6fc61135                        Recording Rockin' Readers   \n",
              "ffff97ed93720407d70a2787475932b0     Kindergarten In Need of Important Materials!   \n",
              "ffff7266778f71242675416e600b94e1                                  Let's Find Out!   \n",
              "ffff418bb42fad24347527ad96100f81                           Whistle While We Work!   \n",
              "...                                                                           ...   \n",
              "0000ee613c92ddc5298bf63142996a5c  Technology Upgrade A Must-Kindergartners Ready!   \n",
              "0000b38bbc7252972f7984848cf58098       Visual Display Technology in the Classroom   \n",
              "00002d691c05c51a5fdfbb2baef0ba25                               You Go Read at HRS   \n",
              "00002bff514104264a6b798356fdd893                        Speedy Shark Reading Club   \n",
              "00001ccc0e81598c4bd86bacb94d7acb                        Math With A Pinch of ART!   \n",
              "\n",
              "                                                                  short_description  \\\n",
              "projectid                                                                             \n",
              "ffffc4f85b60efc5b52347df489d0238  It is imperative that teachers bring technolog...   \n",
              "ffffac55ee02a49d1abc87ba6fc61135  Can you imagine having to translate everything...   \n",
              "ffff97ed93720407d70a2787475932b0  It takes a special person to donate to a group...   \n",
              "ffff7266778f71242675416e600b94e1  My Kindergarten students come from a variety o...   \n",
              "ffff418bb42fad24347527ad96100f81  By using the cross curricular games requested,...   \n",
              "...                                                                             ...   \n",
              "0000ee613c92ddc5298bf63142996a5c  Kindergarten is an exciting time for learning ...   \n",
              "0000b38bbc7252972f7984848cf58098  My students have very limited exposure to tech...   \n",
              "00002d691c05c51a5fdfbb2baef0ba25  My students need high quality books, such as W...   \n",
              "00002bff514104264a6b798356fdd893  My students need more incentives to make them ...   \n",
              "00001ccc0e81598c4bd86bacb94d7acb  My students would love the opportunity to crea...   \n",
              "\n",
              "                                                                     need_statement  \\\n",
              "projectid                                                                             \n",
              "ffffc4f85b60efc5b52347df489d0238                       My students need four iPods.   \n",
              "ffffac55ee02a49d1abc87ba6fc61135                     My students need a camcorder.    \n",
              "ffff97ed93720407d70a2787475932b0  My students need 17 assorted classroom materia...   \n",
              "ffff7266778f71242675416e600b94e1  My students need 25 copies of Scholastic's \"Le...   \n",
              "ffff418bb42fad24347527ad96100f81  My students need grade level appropriate games...   \n",
              "...                                                                             ...   \n",
              "0000ee613c92ddc5298bf63142996a5c  My students need an iPad mini to support instr...   \n",
              "0000b38bbc7252972f7984848cf58098  My students need access to a projector in the ...   \n",
              "00002d691c05c51a5fdfbb2baef0ba25  My students need high quality books, such as W...   \n",
              "00002bff514104264a6b798356fdd893  My students need word building centers 20 At-Y...   \n",
              "00001ccc0e81598c4bd86bacb94d7acb  My students need math counters, geoboards, dot...   \n",
              "\n",
              "                                                                              essay  \n",
              "projectid                                                                            \n",
              "ffffc4f85b60efc5b52347df489d0238  I am a fourth year fifth grade math teacher. T...  \n",
              "ffffac55ee02a49d1abc87ba6fc61135  Can you imagine having to translate everything...  \n",
              "ffff97ed93720407d70a2787475932b0  Hi. I teach a wonderful group of 4-5 year old ...  \n",
              "ffff7266778f71242675416e600b94e1  My Kindergarten students come from a variety o...  \n",
              "ffff418bb42fad24347527ad96100f81  All work and no play makes school a dull place...  \n",
              "...                                                                             ...  \n",
              "0000ee613c92ddc5298bf63142996a5c  Kindergarten is an exciting time for learning ...  \n",
              "0000b38bbc7252972f7984848cf58098  My students have very limited exposure to tech...  \n",
              "00002d691c05c51a5fdfbb2baef0ba25  Our students need the challenge to read high q...  \n",
              "00002bff514104264a6b798356fdd893  My students need more incentives to make them ...  \n",
              "00001ccc0e81598c4bd86bacb94d7acb  My students would love the opportunity to crea...  \n",
              "\n",
              "[664098 rows x 5 columns]"
            ],
            "text/html": [
              "\n",
              "  <div id=\"df-6c5cdec4-0a8b-44e9-93aa-1ee2874fe1a5\">\n",
              "    <div class=\"colab-df-container\">\n",
              "      <div>\n",
              "<style scoped>\n",
              "    .dataframe tbody tr th:only-of-type {\n",
              "        vertical-align: middle;\n",
              "    }\n",
              "\n",
              "    .dataframe tbody tr th {\n",
              "        vertical-align: top;\n",
              "    }\n",
              "\n",
              "    .dataframe thead th {\n",
              "        text-align: right;\n",
              "    }\n",
              "</style>\n",
              "<table border=\"1\" class=\"dataframe\">\n",
              "  <thead>\n",
              "    <tr style=\"text-align: right;\">\n",
              "      <th></th>\n",
              "      <th>teacher_acctid</th>\n",
              "      <th>title</th>\n",
              "      <th>short_description</th>\n",
              "      <th>need_statement</th>\n",
              "      <th>essay</th>\n",
              "    </tr>\n",
              "    <tr>\n",
              "      <th>projectid</th>\n",
              "      <th></th>\n",
              "      <th></th>\n",
              "      <th></th>\n",
              "      <th></th>\n",
              "      <th></th>\n",
              "    </tr>\n",
              "  </thead>\n",
              "  <tbody>\n",
              "    <tr>\n",
              "      <th>ffffc4f85b60efc5b52347df489d0238</th>\n",
              "      <td>c24011b20fc161ed02248e85beb59a90</td>\n",
              "      <td>iMath</td>\n",
              "      <td>It is imperative that teachers bring technolog...</td>\n",
              "      <td>My students need four iPods.</td>\n",
              "      <td>I am a fourth year fifth grade math teacher. T...</td>\n",
              "    </tr>\n",
              "    <tr>\n",
              "      <th>ffffac55ee02a49d1abc87ba6fc61135</th>\n",
              "      <td>947066d0af47e0566f334566553dd6a6</td>\n",
              "      <td>Recording Rockin' Readers</td>\n",
              "      <td>Can you imagine having to translate everything...</td>\n",
              "      <td>My students need a camcorder.</td>\n",
              "      <td>Can you imagine having to translate everything...</td>\n",
              "    </tr>\n",
              "    <tr>\n",
              "      <th>ffff97ed93720407d70a2787475932b0</th>\n",
              "      <td>462270f5d5c212162fcab11afa2623cb</td>\n",
              "      <td>Kindergarten In Need of Important Materials!</td>\n",
              "      <td>It takes a special person to donate to a group...</td>\n",
              "      <td>My students need 17 assorted classroom materia...</td>\n",
              "      <td>Hi. I teach a wonderful group of 4-5 year old ...</td>\n",
              "    </tr>\n",
              "    <tr>\n",
              "      <th>ffff7266778f71242675416e600b94e1</th>\n",
              "      <td>b9a8f14199e0d8109200ece179281f4f</td>\n",
              "      <td>Let's Find Out!</td>\n",
              "      <td>My Kindergarten students come from a variety o...</td>\n",
              "      <td>My students need 25 copies of Scholastic's \"Le...</td>\n",
              "      <td>My Kindergarten students come from a variety o...</td>\n",
              "    </tr>\n",
              "    <tr>\n",
              "      <th>ffff418bb42fad24347527ad96100f81</th>\n",
              "      <td>e885fb002a1d0d39aaed9d21a7683549</td>\n",
              "      <td>Whistle While We Work!</td>\n",
              "      <td>By using the cross curricular games requested,...</td>\n",
              "      <td>My students need grade level appropriate games...</td>\n",
              "      <td>All work and no play makes school a dull place...</td>\n",
              "    </tr>\n",
              "    <tr>\n",
              "      <th>...</th>\n",
              "      <td>...</td>\n",
              "      <td>...</td>\n",
              "      <td>...</td>\n",
              "      <td>...</td>\n",
              "      <td>...</td>\n",
              "    </tr>\n",
              "    <tr>\n",
              "      <th>0000ee613c92ddc5298bf63142996a5c</th>\n",
              "      <td>e0c0a0214d3c2cfdc0ab6639bc3c5342</td>\n",
              "      <td>Technology Upgrade A Must-Kindergartners Ready!</td>\n",
              "      <td>Kindergarten is an exciting time for learning ...</td>\n",
              "      <td>My students need an iPad mini to support instr...</td>\n",
              "      <td>Kindergarten is an exciting time for learning ...</td>\n",
              "    </tr>\n",
              "    <tr>\n",
              "      <th>0000b38bbc7252972f7984848cf58098</th>\n",
              "      <td>e1aa1ae5301d0cda860c4d9c89c24919</td>\n",
              "      <td>Visual Display Technology in the Classroom</td>\n",
              "      <td>My students have very limited exposure to tech...</td>\n",
              "      <td>My students need access to a projector in the ...</td>\n",
              "      <td>My students have very limited exposure to tech...</td>\n",
              "    </tr>\n",
              "    <tr>\n",
              "      <th>00002d691c05c51a5fdfbb2baef0ba25</th>\n",
              "      <td>7ad6abc974dd8b62773f79f6cbed48d5</td>\n",
              "      <td>You Go Read at HRS</td>\n",
              "      <td>My students need high quality books, such as W...</td>\n",
              "      <td>My students need high quality books, such as W...</td>\n",
              "      <td>Our students need the challenge to read high q...</td>\n",
              "    </tr>\n",
              "    <tr>\n",
              "      <th>00002bff514104264a6b798356fdd893</th>\n",
              "      <td>3414541eb63108700b188648f866f483</td>\n",
              "      <td>Speedy Shark Reading Club</td>\n",
              "      <td>My students need more incentives to make them ...</td>\n",
              "      <td>My students need word building centers 20 At-Y...</td>\n",
              "      <td>My students need more incentives to make them ...</td>\n",
              "    </tr>\n",
              "    <tr>\n",
              "      <th>00001ccc0e81598c4bd86bacb94d7acb</th>\n",
              "      <td>96963218e74e10c3764a5cfb153e6fea</td>\n",
              "      <td>Math With A Pinch of ART!</td>\n",
              "      <td>My students would love the opportunity to crea...</td>\n",
              "      <td>My students need math counters, geoboards, dot...</td>\n",
              "      <td>My students would love the opportunity to crea...</td>\n",
              "    </tr>\n",
              "  </tbody>\n",
              "</table>\n",
              "<p>664098 rows × 5 columns</p>\n",
              "</div>\n",
              "      <button class=\"colab-df-convert\" onclick=\"convertToInteractive('df-6c5cdec4-0a8b-44e9-93aa-1ee2874fe1a5')\"\n",
              "              title=\"Convert this dataframe to an interactive table.\"\n",
              "              style=\"display:none;\">\n",
              "        \n",
              "  <svg xmlns=\"http://www.w3.org/2000/svg\" height=\"24px\"viewBox=\"0 0 24 24\"\n",
              "       width=\"24px\">\n",
              "    <path d=\"M0 0h24v24H0V0z\" fill=\"none\"/>\n",
              "    <path d=\"M18.56 5.44l.94 2.06.94-2.06 2.06-.94-2.06-.94-.94-2.06-.94 2.06-2.06.94zm-11 1L8.5 8.5l.94-2.06 2.06-.94-2.06-.94L8.5 2.5l-.94 2.06-2.06.94zm10 10l.94 2.06.94-2.06 2.06-.94-2.06-.94-.94-2.06-.94 2.06-2.06.94z\"/><path d=\"M17.41 7.96l-1.37-1.37c-.4-.4-.92-.59-1.43-.59-.52 0-1.04.2-1.43.59L10.3 9.45l-7.72 7.72c-.78.78-.78 2.05 0 2.83L4 21.41c.39.39.9.59 1.41.59.51 0 1.02-.2 1.41-.59l7.78-7.78 2.81-2.81c.8-.78.8-2.07 0-2.86zM5.41 20L4 18.59l7.72-7.72 1.47 1.35L5.41 20z\"/>\n",
              "  </svg>\n",
              "      </button>\n",
              "      \n",
              "  <style>\n",
              "    .colab-df-container {\n",
              "      display:flex;\n",
              "      flex-wrap:wrap;\n",
              "      gap: 12px;\n",
              "    }\n",
              "\n",
              "    .colab-df-convert {\n",
              "      background-color: #E8F0FE;\n",
              "      border: none;\n",
              "      border-radius: 50%;\n",
              "      cursor: pointer;\n",
              "      display: none;\n",
              "      fill: #1967D2;\n",
              "      height: 32px;\n",
              "      padding: 0 0 0 0;\n",
              "      width: 32px;\n",
              "    }\n",
              "\n",
              "    .colab-df-convert:hover {\n",
              "      background-color: #E2EBFA;\n",
              "      box-shadow: 0px 1px 2px rgba(60, 64, 67, 0.3), 0px 1px 3px 1px rgba(60, 64, 67, 0.15);\n",
              "      fill: #174EA6;\n",
              "    }\n",
              "\n",
              "    [theme=dark] .colab-df-convert {\n",
              "      background-color: #3B4455;\n",
              "      fill: #D2E3FC;\n",
              "    }\n",
              "\n",
              "    [theme=dark] .colab-df-convert:hover {\n",
              "      background-color: #434B5C;\n",
              "      box-shadow: 0px 1px 3px 1px rgba(0, 0, 0, 0.15);\n",
              "      filter: drop-shadow(0px 1px 2px rgba(0, 0, 0, 0.3));\n",
              "      fill: #FFFFFF;\n",
              "    }\n",
              "  </style>\n",
              "\n",
              "      <script>\n",
              "        const buttonEl =\n",
              "          document.querySelector('#df-6c5cdec4-0a8b-44e9-93aa-1ee2874fe1a5 button.colab-df-convert');\n",
              "        buttonEl.style.display =\n",
              "          google.colab.kernel.accessAllowed ? 'block' : 'none';\n",
              "\n",
              "        async function convertToInteractive(key) {\n",
              "          const element = document.querySelector('#df-6c5cdec4-0a8b-44e9-93aa-1ee2874fe1a5');\n",
              "          const dataTable =\n",
              "            await google.colab.kernel.invokeFunction('convertToInteractive',\n",
              "                                                     [key], {});\n",
              "          if (!dataTable) return;\n",
              "\n",
              "          const docLinkHtml = 'Like what you see? Visit the ' +\n",
              "            '<a target=\"_blank\" href=https://colab.research.google.com/notebooks/data_table.ipynb>data table notebook</a>'\n",
              "            + ' to learn more about interactive tables.';\n",
              "          element.innerHTML = '';\n",
              "          dataTable['output_type'] = 'display_data';\n",
              "          await google.colab.output.renderOutput(dataTable, element);\n",
              "          const docLink = document.createElement('div');\n",
              "          docLink.innerHTML = docLinkHtml;\n",
              "          element.appendChild(docLink);\n",
              "        }\n",
              "      </script>\n",
              "    </div>\n",
              "  </div>\n",
              "  "
            ]
          },
          "metadata": {},
          "execution_count": 38
        }
      ]
    },
    {
      "cell_type": "code",
      "source": [
        "len(set(essays_df.index).intersection(projects_df.index))"
      ],
      "metadata": {
        "colab": {
          "base_uri": "https://localhost:8080/"
        },
        "id": "ZJLzVOCOIB3G",
        "outputId": "2a204b26-12d2-4b8c-95ec-7f1433d76fd9"
      },
      "execution_count": 37,
      "outputs": [
        {
          "output_type": "execute_result",
          "data": {
            "text/plain": [
              "663788"
            ]
          },
          "metadata": {},
          "execution_count": 37
        }
      ]
    },
    {
      "cell_type": "code",
      "source": [
        "DatasetTuple = namedtuple('DatasetTuple', 'projects_df donations_df essays_df')\n",
        "\n",
        "def subset_dataset(projects_df: pd.DataFrame, donations_df: pd.DataFrame, essays_df: pd.DataFrame, time_start: datetime, time_end: datetime) -> DatasetTuple:\n",
        "    projects_df = projects_df[projects_df['date_posted'].between(time_start, time_end, inclusive='left')].copy()\n",
        "    donations_df = donations_df[donations_df['projectid'].isin(projects_df.index)].copy()\n",
        "    essays_df = essays_df[essays_df.index.isin(projects_df.index)].copy()\n",
        "    return DatasetTuple(projects_df, donations_df, essays_df)\n",
        "\n",
        "train_valid_pair1 = (\n",
        "    subset_dataset(projects_df, donations_df, essays_df, datetime(2009, 1, 1), datetime(2010, 1, 1)),\n",
        "    subset_dataset(projects_df, donations_df, essays_df, datetime(2011, 1, 1), datetime(2012, 1, 1)),\n",
        ")\n",
        "train_valid_pair2 = (\n",
        "    subset_dataset(projects_df, donations_df, essays_df, datetime(2010, 1, 1), datetime(2011, 1, 1)),\n",
        "    subset_dataset(projects_df, donations_df, essays_df, datetime(2012, 1, 1), datetime(2013, 1, 1)),\n",
        ")\n",
        "train_valid_pair3 = (\n",
        "    subset_dataset(projects_df, donations_df, essays_df, datetime(2011, 1, 1), datetime(2012, 1, 1)),\n",
        "    subset_dataset(projects_df, donations_df, essays_df, datetime(2013, 1, 1), datetime(2014, 1, 1)),\n",
        ")"
      ],
      "metadata": {
        "id": "5EOSo5Oc7G9K"
      },
      "execution_count": 51,
      "outputs": []
    },
    {
      "cell_type": "code",
      "source": [
        "for train_tuple, valid_tuple in [train_valid_pair1, train_valid_pair2, train_valid_pair3]:\n",
        "    print(train_tuple.projects_df.shape, train_tuple.donations_df.shape, valid_tuple.projects_df.shape, valid_tuple.donations_df.shape)"
      ],
      "metadata": {
        "colab": {
          "base_uri": "https://localhost:8080/"
        },
        "id": "WrSzHM5P7G_h",
        "outputId": "621f2fa4-8151-4477-d28a-c754412de648"
      },
      "execution_count": 52,
      "outputs": [
        {
          "output_type": "stream",
          "name": "stdout",
          "text": [
            "(63547, 36) (188496, 21) (104196, 36) (623037, 21)\n",
            "(86448, 36) (452323, 21) (117626, 36) (619055, 21)\n",
            "(104196, 36) (623037, 21) (131329, 36) (799986, 21)\n"
          ]
        }
      ]
    },
    {
      "cell_type": "code",
      "source": [
        "# three baselines:\n",
        "from sklearn.metrics import precision_score, classification_report\n",
        "\n",
        "def get_baselines(dataset_tuple, a=40):\n",
        "    projects_df, donations_df, essays_df = dataset_tuple\n",
        "    essays_df['essay_length'] = essays_df.essay.str.len()\n",
        "    projects_df = projects_df.join(essays_df['essay_length'])\n",
        "    ground_truth = (projects_df.funded_fraction < 1).astype(int)\n",
        "    N = projects_df.shape[0]\n",
        "\n",
        "    print(\"base rate: \", np.mean(ground_truth))\n",
        "\n",
        "    # randomly choose a% low poverty_level\n",
        "    baseline_num = int(a*N/100)\n",
        "    projects_df['tp_bl1'] = np.zeros(N, dtype=\"int\")\n",
        "    if sum(projects_df.poverty_level.isin([\"low poverty\"])) >= baseline_num:\n",
        "        tp_pov = projects_df[projects_df.poverty_level == \"low poverty\"]\n",
        "        projects_df['tp_bl1'][np.random.choice(tp_pov.index, size=baseline_num, replace=False)] =  1\n",
        "    elif sum(projects_df.poverty_level.isin([\"low poverty\", \"moderate poverty\"])) >= baseline_num:\n",
        "        tp_pov1 = projects_df[projects_df.poverty_level == \"low poverty\"]\n",
        "        projects_df['tp_bl1'][tp_pov1.index] =  1\n",
        "        tp_pov = projects_df[projects_df.poverty_level == \"moderate poverty\"]\n",
        "        projects_df['tp_bl1'][np.random.choice(tp_pov.index, size=baseline_num - len(tp_pov1), replace=False)] =  1 \n",
        "    elif sum(projects_df.poverty_level.isin([\"low poverty\", \"moderate poverty\", \"high poverty\"])) >= baseline_num:\n",
        "        tp_pov1 = projects_df[projects_df.poverty_level.isin([\"low poverty\", \"moderate poverty\"])]\n",
        "        projects_df['tp_bl1'][tp_pov1.index] =  1\n",
        "        tp_pov = projects_df[projects_df.poverty_level == \"high poverty\"]\n",
        "        projects_df['tp_bl1'][np.random.choice(tp_pov.index, size=baseline_num - len(tp_pov1), replace=False)] =  1 \n",
        "    elif sum(projects_df.poverty_level.isin([\"low poverty\", \"moderate poverty\", \"high poverty\", \"highest poverty\"])) >= baseline_num:\n",
        "        tp_pov1 = projects_df[projects_df.poverty_level.isin([\"low poverty\", \"moderate poverty\", \"high poverty\"])]\n",
        "        projects_df['tp_bl1'][tp_pov1.index] =  1\n",
        "        tp_pov = projects_df[projects_df.poverty_level == \"highest poverty\"]\n",
        "        projects_df['tp_bl1'][np.random.choice(tp_pov.index, size=baseline_num - len(tp_pov1), replace=False)] =  1 \n",
        "\n",
        "    # top a% based on total asking price\n",
        "    projects_df['tp_bl2'] = np.zeros(N, dtype=\"int\")\n",
        "    projects_df['tp_bl2'][projects_df.nlargest(baseline_num, \"total_price_excluding_optional_support\").index] = 1\n",
        "\n",
        "    # shortest a% essay\n",
        "    projects_df['tp_bl3'] = np.zeros(projects_df.shape[0], dtype=\"int\")\n",
        "    projects_df['tp_bl3'][projects_df.nsmallest(baseline_num, \"essay_length\").index] = 1\n",
        "\n",
        "    print(\"randomly choose {0}% of low/moderate poverty\".format(a))\n",
        "    print(classification_report(y_true=ground_truth,\n",
        "                        y_pred=np.array(projects_df['tp_bl1']), labels=[1],digits=4))\n",
        "\n",
        "    print(\"highest {0}% total_price_excluding_optional_support benchmark:\".format(a))\n",
        "    print(classification_report(y_true=ground_truth,\n",
        "                        y_pred=np.array(projects_df['tp_bl2']), labels=[1],digits=4))\n",
        "\n",
        "    print(\"shorest {0}% essay benchmark:\".format(a))\n",
        "    print(classification_report(y_true=ground_truth,\n",
        "                        y_pred=np.array(projects_df['tp_bl3']), labels=[1],digits=4))"
      ],
      "metadata": {
        "id": "jWPCbA7XBOn-"
      },
      "execution_count": 76,
      "outputs": []
    },
    {
      "cell_type": "code",
      "source": [
        "for i, (train_tuple, valid_tuple) in enumerate([train_valid_pair1, train_valid_pair2, train_valid_pair3]):\n",
        "  print(\"train validation pair \" + str(i))\n",
        "  print(\"training set\")\n",
        "  get_baselines(train_tuple, a=10)\n",
        "  print(\"validation set\")\n",
        "  get_baselines(valid_tuple, a=10)"
      ],
      "metadata": {
        "colab": {
          "base_uri": "https://localhost:8080/"
        },
        "id": "qvdzXgfvPmc2",
        "outputId": "7b1199c2-0b79-484a-f3eb-e7e7ad2e5528"
      },
      "execution_count": 77,
      "outputs": [
        {
          "output_type": "stream",
          "name": "stdout",
          "text": [
            "train validation pair 0\n",
            "training set\n",
            "base rate:  0.4418619289659622\n",
            "randomly choose 10% of low/moderate poverty\n"
          ]
        },
        {
          "output_type": "stream",
          "name": "stderr",
          "text": [
            "/usr/local/lib/python3.7/dist-packages/ipykernel_launcher.py:21: SettingWithCopyWarning: \n",
            "A value is trying to be set on a copy of a slice from a DataFrame\n",
            "\n",
            "See the caveats in the documentation: https://pandas.pydata.org/pandas-docs/stable/user_guide/indexing.html#returning-a-view-versus-a-copy\n",
            "/usr/local/lib/python3.7/dist-packages/pandas/core/indexing.py:1732: SettingWithCopyWarning: \n",
            "A value is trying to be set on a copy of a slice from a DataFrame\n",
            "\n",
            "See the caveats in the documentation: https://pandas.pydata.org/pandas-docs/stable/user_guide/indexing.html#returning-a-view-versus-a-copy\n",
            "  self._setitem_single_block(indexer, value, name)\n",
            "/usr/local/lib/python3.7/dist-packages/ipykernel_launcher.py:23: SettingWithCopyWarning: \n",
            "A value is trying to be set on a copy of a slice from a DataFrame\n",
            "\n",
            "See the caveats in the documentation: https://pandas.pydata.org/pandas-docs/stable/user_guide/indexing.html#returning-a-view-versus-a-copy\n",
            "/usr/local/lib/python3.7/dist-packages/ipykernel_launcher.py:37: SettingWithCopyWarning: \n",
            "A value is trying to be set on a copy of a slice from a DataFrame\n",
            "\n",
            "See the caveats in the documentation: https://pandas.pydata.org/pandas-docs/stable/user_guide/indexing.html#returning-a-view-versus-a-copy\n",
            "/usr/local/lib/python3.7/dist-packages/ipykernel_launcher.py:41: SettingWithCopyWarning: \n",
            "A value is trying to be set on a copy of a slice from a DataFrame\n",
            "\n",
            "See the caveats in the documentation: https://pandas.pydata.org/pandas-docs/stable/user_guide/indexing.html#returning-a-view-versus-a-copy\n"
          ]
        },
        {
          "output_type": "stream",
          "name": "stdout",
          "text": [
            "              precision    recall  f1-score   support\n",
            "\n",
            "           1     0.5574    0.1261    0.2057     28079\n",
            "\n",
            "   micro avg     0.5574    0.1261    0.2057     28079\n",
            "   macro avg     0.5574    0.1261    0.2057     28079\n",
            "weighted avg     0.5574    0.1261    0.2057     28079\n",
            "\n",
            "highest 10% total_price_excluding_optional_support benchmark:\n",
            "              precision    recall  f1-score   support\n",
            "\n",
            "           1     0.5519    0.1249    0.2037     28079\n",
            "\n",
            "   micro avg     0.5519    0.1249    0.2037     28079\n",
            "   macro avg     0.5519    0.1249    0.2037     28079\n",
            "weighted avg     0.5519    0.1249    0.2037     28079\n",
            "\n",
            "shorest 10% essay benchmark:\n",
            "              precision    recall  f1-score   support\n",
            "\n",
            "           1     0.4742    0.1073    0.1750     28079\n",
            "\n",
            "   micro avg     0.4742    0.1073    0.1750     28079\n",
            "   macro avg     0.4742    0.1073    0.1750     28079\n",
            "weighted avg     0.4742    0.1073    0.1750     28079\n",
            "\n",
            "validation set\n",
            "base rate:  0.4367346155322661\n"
          ]
        },
        {
          "output_type": "stream",
          "name": "stderr",
          "text": [
            "/usr/local/lib/python3.7/dist-packages/ipykernel_launcher.py:21: SettingWithCopyWarning: \n",
            "A value is trying to be set on a copy of a slice from a DataFrame\n",
            "\n",
            "See the caveats in the documentation: https://pandas.pydata.org/pandas-docs/stable/user_guide/indexing.html#returning-a-view-versus-a-copy\n",
            "/usr/local/lib/python3.7/dist-packages/pandas/core/indexing.py:1732: SettingWithCopyWarning: \n",
            "A value is trying to be set on a copy of a slice from a DataFrame\n",
            "\n",
            "See the caveats in the documentation: https://pandas.pydata.org/pandas-docs/stable/user_guide/indexing.html#returning-a-view-versus-a-copy\n",
            "  self._setitem_single_block(indexer, value, name)\n",
            "/usr/local/lib/python3.7/dist-packages/ipykernel_launcher.py:23: SettingWithCopyWarning: \n",
            "A value is trying to be set on a copy of a slice from a DataFrame\n",
            "\n",
            "See the caveats in the documentation: https://pandas.pydata.org/pandas-docs/stable/user_guide/indexing.html#returning-a-view-versus-a-copy\n",
            "/usr/local/lib/python3.7/dist-packages/ipykernel_launcher.py:37: SettingWithCopyWarning: \n",
            "A value is trying to be set on a copy of a slice from a DataFrame\n",
            "\n",
            "See the caveats in the documentation: https://pandas.pydata.org/pandas-docs/stable/user_guide/indexing.html#returning-a-view-versus-a-copy\n",
            "/usr/local/lib/python3.7/dist-packages/ipykernel_launcher.py:41: SettingWithCopyWarning: \n",
            "A value is trying to be set on a copy of a slice from a DataFrame\n",
            "\n",
            "See the caveats in the documentation: https://pandas.pydata.org/pandas-docs/stable/user_guide/indexing.html#returning-a-view-versus-a-copy\n"
          ]
        },
        {
          "output_type": "stream",
          "name": "stdout",
          "text": [
            "randomly choose 10% of low/moderate poverty\n",
            "              precision    recall  f1-score   support\n",
            "\n",
            "           1     0.4547    0.1041    0.1694     45506\n",
            "\n",
            "   micro avg     0.4547    0.1041    0.1694     45506\n",
            "   macro avg     0.4547    0.1041    0.1694     45506\n",
            "weighted avg     0.4547    0.1041    0.1694     45506\n",
            "\n",
            "highest 10% total_price_excluding_optional_support benchmark:\n",
            "              precision    recall  f1-score   support\n",
            "\n",
            "           1     0.5947    0.1362    0.2216     45506\n",
            "\n",
            "   micro avg     0.5947    0.1362    0.2216     45506\n",
            "   macro avg     0.5947    0.1362    0.2216     45506\n",
            "weighted avg     0.5947    0.1362    0.2216     45506\n",
            "\n",
            "shorest 10% essay benchmark:\n",
            "              precision    recall  f1-score   support\n",
            "\n",
            "           1     0.4378    0.1002    0.1631     45506\n",
            "\n",
            "   micro avg     0.4378    0.1002    0.1631     45506\n",
            "   macro avg     0.4378    0.1002    0.1631     45506\n",
            "weighted avg     0.4378    0.1002    0.1631     45506\n",
            "\n",
            "train validation pair 1\n",
            "training set\n",
            "base rate:  0.39080140662594853\n",
            "randomly choose 10% of low/moderate poverty\n"
          ]
        },
        {
          "output_type": "stream",
          "name": "stderr",
          "text": [
            "/usr/local/lib/python3.7/dist-packages/ipykernel_launcher.py:21: SettingWithCopyWarning: \n",
            "A value is trying to be set on a copy of a slice from a DataFrame\n",
            "\n",
            "See the caveats in the documentation: https://pandas.pydata.org/pandas-docs/stable/user_guide/indexing.html#returning-a-view-versus-a-copy\n",
            "/usr/local/lib/python3.7/dist-packages/pandas/core/indexing.py:1732: SettingWithCopyWarning: \n",
            "A value is trying to be set on a copy of a slice from a DataFrame\n",
            "\n",
            "See the caveats in the documentation: https://pandas.pydata.org/pandas-docs/stable/user_guide/indexing.html#returning-a-view-versus-a-copy\n",
            "  self._setitem_single_block(indexer, value, name)\n",
            "/usr/local/lib/python3.7/dist-packages/ipykernel_launcher.py:23: SettingWithCopyWarning: \n",
            "A value is trying to be set on a copy of a slice from a DataFrame\n",
            "\n",
            "See the caveats in the documentation: https://pandas.pydata.org/pandas-docs/stable/user_guide/indexing.html#returning-a-view-versus-a-copy\n",
            "/usr/local/lib/python3.7/dist-packages/ipykernel_launcher.py:37: SettingWithCopyWarning: \n",
            "A value is trying to be set on a copy of a slice from a DataFrame\n",
            "\n",
            "See the caveats in the documentation: https://pandas.pydata.org/pandas-docs/stable/user_guide/indexing.html#returning-a-view-versus-a-copy\n",
            "/usr/local/lib/python3.7/dist-packages/ipykernel_launcher.py:41: SettingWithCopyWarning: \n",
            "A value is trying to be set on a copy of a slice from a DataFrame\n",
            "\n",
            "See the caveats in the documentation: https://pandas.pydata.org/pandas-docs/stable/user_guide/indexing.html#returning-a-view-versus-a-copy\n"
          ]
        },
        {
          "output_type": "stream",
          "name": "stdout",
          "text": [
            "              precision    recall  f1-score   support\n",
            "\n",
            "           1     0.4727    0.1209    0.1926     33784\n",
            "\n",
            "   micro avg     0.4727    0.1209    0.1926     33784\n",
            "   macro avg     0.4727    0.1209    0.1926     33784\n",
            "weighted avg     0.4727    0.1209    0.1926     33784\n",
            "\n",
            "highest 10% total_price_excluding_optional_support benchmark:\n",
            "              precision    recall  f1-score   support\n",
            "\n",
            "           1     0.5464    0.1398    0.2226     33784\n",
            "\n",
            "   micro avg     0.5464    0.1398    0.2226     33784\n",
            "   macro avg     0.5464    0.1398    0.2226     33784\n",
            "weighted avg     0.5464    0.1398    0.2226     33784\n",
            "\n",
            "shorest 10% essay benchmark:\n",
            "              precision    recall  f1-score   support\n",
            "\n",
            "           1     0.3965    0.1014    0.1615     33784\n",
            "\n",
            "   micro avg     0.3965    0.1014    0.1615     33784\n",
            "   macro avg     0.3965    0.1014    0.1615     33784\n",
            "weighted avg     0.3965    0.1014    0.1615     33784\n",
            "\n",
            "validation set\n",
            "base rate:  0.3754952136432421\n"
          ]
        },
        {
          "output_type": "stream",
          "name": "stderr",
          "text": [
            "/usr/local/lib/python3.7/dist-packages/ipykernel_launcher.py:21: SettingWithCopyWarning: \n",
            "A value is trying to be set on a copy of a slice from a DataFrame\n",
            "\n",
            "See the caveats in the documentation: https://pandas.pydata.org/pandas-docs/stable/user_guide/indexing.html#returning-a-view-versus-a-copy\n",
            "/usr/local/lib/python3.7/dist-packages/pandas/core/indexing.py:1732: SettingWithCopyWarning: \n",
            "A value is trying to be set on a copy of a slice from a DataFrame\n",
            "\n",
            "See the caveats in the documentation: https://pandas.pydata.org/pandas-docs/stable/user_guide/indexing.html#returning-a-view-versus-a-copy\n",
            "  self._setitem_single_block(indexer, value, name)\n",
            "/usr/local/lib/python3.7/dist-packages/ipykernel_launcher.py:23: SettingWithCopyWarning: \n",
            "A value is trying to be set on a copy of a slice from a DataFrame\n",
            "\n",
            "See the caveats in the documentation: https://pandas.pydata.org/pandas-docs/stable/user_guide/indexing.html#returning-a-view-versus-a-copy\n",
            "/usr/local/lib/python3.7/dist-packages/ipykernel_launcher.py:37: SettingWithCopyWarning: \n",
            "A value is trying to be set on a copy of a slice from a DataFrame\n",
            "\n",
            "See the caveats in the documentation: https://pandas.pydata.org/pandas-docs/stable/user_guide/indexing.html#returning-a-view-versus-a-copy\n",
            "/usr/local/lib/python3.7/dist-packages/ipykernel_launcher.py:41: SettingWithCopyWarning: \n",
            "A value is trying to be set on a copy of a slice from a DataFrame\n",
            "\n",
            "See the caveats in the documentation: https://pandas.pydata.org/pandas-docs/stable/user_guide/indexing.html#returning-a-view-versus-a-copy\n"
          ]
        },
        {
          "output_type": "stream",
          "name": "stdout",
          "text": [
            "randomly choose 10% of low/moderate poverty\n",
            "              precision    recall  f1-score   support\n",
            "\n",
            "           1     0.3925    0.1045    0.1651     44168\n",
            "\n",
            "   micro avg     0.3925    0.1045    0.1651     44168\n",
            "   macro avg     0.3925    0.1045    0.1651     44168\n",
            "weighted avg     0.3925    0.1045    0.1651     44168\n",
            "\n",
            "highest 10% total_price_excluding_optional_support benchmark:\n",
            "              precision    recall  f1-score   support\n",
            "\n",
            "           1     0.4901    0.1305    0.2061     44168\n",
            "\n",
            "   micro avg     0.4901    0.1305    0.2061     44168\n",
            "   macro avg     0.4901    0.1305    0.2061     44168\n",
            "weighted avg     0.4901    0.1305    0.2061     44168\n",
            "\n",
            "shorest 10% essay benchmark:\n",
            "              precision    recall  f1-score   support\n",
            "\n",
            "           1     0.3879    0.1033    0.1631     44168\n",
            "\n",
            "   micro avg     0.3879    0.1033    0.1631     44168\n",
            "   macro avg     0.3879    0.1033    0.1631     44168\n",
            "weighted avg     0.3879    0.1033    0.1631     44168\n",
            "\n",
            "train validation pair 2\n",
            "training set\n",
            "base rate:  0.4367346155322661\n",
            "randomly choose 10% of low/moderate poverty\n"
          ]
        },
        {
          "output_type": "stream",
          "name": "stderr",
          "text": [
            "/usr/local/lib/python3.7/dist-packages/ipykernel_launcher.py:21: SettingWithCopyWarning: \n",
            "A value is trying to be set on a copy of a slice from a DataFrame\n",
            "\n",
            "See the caveats in the documentation: https://pandas.pydata.org/pandas-docs/stable/user_guide/indexing.html#returning-a-view-versus-a-copy\n",
            "/usr/local/lib/python3.7/dist-packages/pandas/core/indexing.py:1732: SettingWithCopyWarning: \n",
            "A value is trying to be set on a copy of a slice from a DataFrame\n",
            "\n",
            "See the caveats in the documentation: https://pandas.pydata.org/pandas-docs/stable/user_guide/indexing.html#returning-a-view-versus-a-copy\n",
            "  self._setitem_single_block(indexer, value, name)\n",
            "/usr/local/lib/python3.7/dist-packages/ipykernel_launcher.py:23: SettingWithCopyWarning: \n",
            "A value is trying to be set on a copy of a slice from a DataFrame\n",
            "\n",
            "See the caveats in the documentation: https://pandas.pydata.org/pandas-docs/stable/user_guide/indexing.html#returning-a-view-versus-a-copy\n",
            "/usr/local/lib/python3.7/dist-packages/ipykernel_launcher.py:37: SettingWithCopyWarning: \n",
            "A value is trying to be set on a copy of a slice from a DataFrame\n",
            "\n",
            "See the caveats in the documentation: https://pandas.pydata.org/pandas-docs/stable/user_guide/indexing.html#returning-a-view-versus-a-copy\n",
            "/usr/local/lib/python3.7/dist-packages/ipykernel_launcher.py:41: SettingWithCopyWarning: \n",
            "A value is trying to be set on a copy of a slice from a DataFrame\n",
            "\n",
            "See the caveats in the documentation: https://pandas.pydata.org/pandas-docs/stable/user_guide/indexing.html#returning-a-view-versus-a-copy\n"
          ]
        },
        {
          "output_type": "stream",
          "name": "stdout",
          "text": [
            "              precision    recall  f1-score   support\n",
            "\n",
            "           1     0.4594    0.1052    0.1712     45506\n",
            "\n",
            "   micro avg     0.4594    0.1052    0.1712     45506\n",
            "   macro avg     0.4594    0.1052    0.1712     45506\n",
            "weighted avg     0.4594    0.1052    0.1712     45506\n",
            "\n",
            "highest 10% total_price_excluding_optional_support benchmark:\n",
            "              precision    recall  f1-score   support\n",
            "\n",
            "           1     0.5947    0.1362    0.2216     45506\n",
            "\n",
            "   micro avg     0.5947    0.1362    0.2216     45506\n",
            "   macro avg     0.5947    0.1362    0.2216     45506\n",
            "weighted avg     0.5947    0.1362    0.2216     45506\n",
            "\n",
            "shorest 10% essay benchmark:\n",
            "              precision    recall  f1-score   support\n",
            "\n",
            "           1     0.4378    0.1002    0.1631     45506\n",
            "\n",
            "   micro avg     0.4378    0.1002    0.1631     45506\n",
            "   macro avg     0.4378    0.1002    0.1631     45506\n",
            "weighted avg     0.4378    0.1002    0.1631     45506\n",
            "\n",
            "validation set\n",
            "base rate:  0.3371304129324064\n"
          ]
        },
        {
          "output_type": "stream",
          "name": "stderr",
          "text": [
            "/usr/local/lib/python3.7/dist-packages/ipykernel_launcher.py:21: SettingWithCopyWarning: \n",
            "A value is trying to be set on a copy of a slice from a DataFrame\n",
            "\n",
            "See the caveats in the documentation: https://pandas.pydata.org/pandas-docs/stable/user_guide/indexing.html#returning-a-view-versus-a-copy\n",
            "/usr/local/lib/python3.7/dist-packages/pandas/core/indexing.py:1732: SettingWithCopyWarning: \n",
            "A value is trying to be set on a copy of a slice from a DataFrame\n",
            "\n",
            "See the caveats in the documentation: https://pandas.pydata.org/pandas-docs/stable/user_guide/indexing.html#returning-a-view-versus-a-copy\n",
            "  self._setitem_single_block(indexer, value, name)\n",
            "/usr/local/lib/python3.7/dist-packages/ipykernel_launcher.py:23: SettingWithCopyWarning: \n",
            "A value is trying to be set on a copy of a slice from a DataFrame\n",
            "\n",
            "See the caveats in the documentation: https://pandas.pydata.org/pandas-docs/stable/user_guide/indexing.html#returning-a-view-versus-a-copy\n",
            "/usr/local/lib/python3.7/dist-packages/ipykernel_launcher.py:37: SettingWithCopyWarning: \n",
            "A value is trying to be set on a copy of a slice from a DataFrame\n",
            "\n",
            "See the caveats in the documentation: https://pandas.pydata.org/pandas-docs/stable/user_guide/indexing.html#returning-a-view-versus-a-copy\n",
            "/usr/local/lib/python3.7/dist-packages/ipykernel_launcher.py:41: SettingWithCopyWarning: \n",
            "A value is trying to be set on a copy of a slice from a DataFrame\n",
            "\n",
            "See the caveats in the documentation: https://pandas.pydata.org/pandas-docs/stable/user_guide/indexing.html#returning-a-view-versus-a-copy\n"
          ]
        },
        {
          "output_type": "stream",
          "name": "stdout",
          "text": [
            "randomly choose 10% of low/moderate poverty\n",
            "              precision    recall  f1-score   support\n",
            "\n",
            "           1     0.3513    0.1042    0.1607     44275\n",
            "\n",
            "   micro avg     0.3513    0.1042    0.1607     44275\n",
            "   macro avg     0.3513    0.1042    0.1607     44275\n",
            "weighted avg     0.3513    0.1042    0.1607     44275\n",
            "\n",
            "highest 10% total_price_excluding_optional_support benchmark:\n",
            "              precision    recall  f1-score   support\n",
            "\n",
            "           1     0.4599    0.1364    0.2104     44275\n",
            "\n",
            "   micro avg     0.4599    0.1364    0.2104     44275\n",
            "   macro avg     0.4599    0.1364    0.2104     44275\n",
            "weighted avg     0.4599    0.1364    0.2104     44275\n",
            "\n",
            "shorest 10% essay benchmark:\n",
            "              precision    recall  f1-score   support\n",
            "\n",
            "           1     0.3313    0.0983    0.1516     44275\n",
            "\n",
            "   micro avg     0.3313    0.0983    0.1516     44275\n",
            "   macro avg     0.3313    0.0983    0.1516     44275\n",
            "weighted avg     0.3313    0.0983    0.1516     44275\n",
            "\n"
          ]
        }
      ]
    },
    {
      "cell_type": "code",
      "source": [
        "get_baselines((projects_df, donations_df, essays_df),10)"
      ],
      "metadata": {
        "colab": {
          "base_uri": "https://localhost:8080/"
        },
        "id": "775RTAm2YUMb",
        "outputId": "add4527d-d524-4e11-db23-ca96f0225036"
      },
      "execution_count": 81,
      "outputs": [
        {
          "output_type": "stream",
          "name": "stdout",
          "text": [
            "base rate:  0.4521895544963151\n"
          ]
        },
        {
          "output_type": "stream",
          "name": "stderr",
          "text": [
            "/usr/local/lib/python3.7/dist-packages/ipykernel_launcher.py:21: SettingWithCopyWarning: \n",
            "A value is trying to be set on a copy of a slice from a DataFrame\n",
            "\n",
            "See the caveats in the documentation: https://pandas.pydata.org/pandas-docs/stable/user_guide/indexing.html#returning-a-view-versus-a-copy\n",
            "/usr/local/lib/python3.7/dist-packages/pandas/core/indexing.py:1732: SettingWithCopyWarning: \n",
            "A value is trying to be set on a copy of a slice from a DataFrame\n",
            "\n",
            "See the caveats in the documentation: https://pandas.pydata.org/pandas-docs/stable/user_guide/indexing.html#returning-a-view-versus-a-copy\n",
            "  self._setitem_single_block(indexer, value, name)\n",
            "/usr/local/lib/python3.7/dist-packages/ipykernel_launcher.py:23: SettingWithCopyWarning: \n",
            "A value is trying to be set on a copy of a slice from a DataFrame\n",
            "\n",
            "See the caveats in the documentation: https://pandas.pydata.org/pandas-docs/stable/user_guide/indexing.html#returning-a-view-versus-a-copy\n",
            "/usr/local/lib/python3.7/dist-packages/ipykernel_launcher.py:37: SettingWithCopyWarning: \n",
            "A value is trying to be set on a copy of a slice from a DataFrame\n",
            "\n",
            "See the caveats in the documentation: https://pandas.pydata.org/pandas-docs/stable/user_guide/indexing.html#returning-a-view-versus-a-copy\n",
            "/usr/local/lib/python3.7/dist-packages/ipykernel_launcher.py:41: SettingWithCopyWarning: \n",
            "A value is trying to be set on a copy of a slice from a DataFrame\n",
            "\n",
            "See the caveats in the documentation: https://pandas.pydata.org/pandas-docs/stable/user_guide/indexing.html#returning-a-view-versus-a-copy\n"
          ]
        },
        {
          "output_type": "stream",
          "name": "stdout",
          "text": [
            "randomly choose 10% of low/moderate poverty\n",
            "              precision    recall  f1-score   support\n",
            "\n",
            "           1     0.4914    0.1087    0.1780    300158\n",
            "\n",
            "   micro avg     0.4914    0.1087    0.1780    300158\n",
            "   macro avg     0.4914    0.1087    0.1780    300158\n",
            "weighted avg     0.4914    0.1087    0.1780    300158\n",
            "\n",
            "highest 10% total_price_excluding_optional_support benchmark:\n",
            "              precision    recall  f1-score   support\n",
            "\n",
            "           1     0.6336    0.1401    0.2295    300158\n",
            "\n",
            "   micro avg     0.6336    0.1401    0.2295    300158\n",
            "   macro avg     0.6336    0.1401    0.2295    300158\n",
            "weighted avg     0.6336    0.1401    0.2295    300158\n",
            "\n",
            "shorest 10% essay benchmark:\n",
            "              precision    recall  f1-score   support\n",
            "\n",
            "           1     0.4656    0.1030    0.1686    300158\n",
            "\n",
            "   micro avg     0.4656    0.1030    0.1686    300158\n",
            "   macro avg     0.4656    0.1030    0.1686    300158\n",
            "weighted avg     0.4656    0.1030    0.1686    300158\n",
            "\n"
          ]
        }
      ]
    }
  ]
}